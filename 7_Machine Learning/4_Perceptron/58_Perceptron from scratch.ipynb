{
 "cells": [
  {
   "cell_type": "markdown",
   "metadata": {},
   "source": [
    "# Perceptron\n",
    "\n",
    "<img src='biologicalperceptron.png' />"
   ]
  },
  {
   "cell_type": "markdown",
   "metadata": {},
   "source": [
    "# Mathematically\n",
    "\n",
    "<img src='singlelayerper.png' />"
   ]
  },
  {
   "cell_type": "code",
   "execution_count": 4,
   "metadata": {},
   "outputs": [],
   "source": [
    "import numpy as np\n",
    "\n",
    "class Perceptron:\n",
    "    \n",
    "    # init - initialize perceptron function values\n",
    "    def __init__(self, learning_rate=0.01, n_iters=1000):\n",
    "        self.learning_rate = learning_rate\n",
    "        self.n_iters = n_iters\n",
    "        self.activation_function = self.unit_step_function\n",
    "        self.weights = None\n",
    "        self.bias = None\n",
    "    \n",
    "    # fit\n",
    "    def fit(self, x, y):\n",
    "        n_samples, n_features = x.shape\n",
    "        \n",
    "        # initialize parameters\n",
    "        self.weights = np.zeros(n_features)\n",
    "        self.bias = 0\n",
    "        \n",
    "        y_ = np.array([1 if i > 0 else 0 for i in y])\n",
    "        \n",
    "        for _ in range(self.n_iters):\n",
    "            \n",
    "            for idx, x_i in enumerate(x):\n",
    "                \n",
    "                # implement linear equation\n",
    "                linear_output = np.dot(x_i, self.weights) + self.bias\n",
    "                # pass it into activation function\n",
    "                yprediction = self.activation_function(linear_output)\n",
    "                \n",
    "                # perceptron update rule\n",
    "                update = self.learning_rate * (y_[idx] - yprediction)\n",
    "                \n",
    "                self.weights = update * x_i\n",
    "                self.bias += update\n",
    "    \n",
    "    # predict\n",
    "    def predict(self, x):\n",
    "        linear_output = np.dot(x, self.weights) + self.bias\n",
    "        yprediction = self.activation_function(linear_output)\n",
    "        \n",
    "        return yprediction\n",
    "    \n",
    "    # activation function - unit step\n",
    "    def unit_step_function(self, x):\n",
    "        return np.where(x>=0, 1, 0)"
   ]
  },
  {
   "cell_type": "code",
   "execution_count": 1,
   "metadata": {},
   "outputs": [
    {
     "name": "stdout",
     "output_type": "stream",
     "text": [
      "[0. 0. 0.]\n"
     ]
    }
   ],
   "source": [
    "import numpy as np\n",
    "\n",
    "print(np.zeros(3))"
   ]
  },
  {
   "cell_type": "code",
   "execution_count": 5,
   "metadata": {},
   "outputs": [],
   "source": [
    "p = Perceptron()"
   ]
  },
  {
   "cell_type": "code",
   "execution_count": null,
   "metadata": {},
   "outputs": [],
   "source": []
  }
 ],
 "metadata": {
  "kernelspec": {
   "display_name": "Python 3",
   "language": "python",
   "name": "python3"
  },
  "language_info": {
   "codemirror_mode": {
    "name": "ipython",
    "version": 3
   },
   "file_extension": ".py",
   "mimetype": "text/x-python",
   "name": "python",
   "nbconvert_exporter": "python",
   "pygments_lexer": "ipython3",
   "version": "3.7.6"
  }
 },
 "nbformat": 4,
 "nbformat_minor": 4
}
