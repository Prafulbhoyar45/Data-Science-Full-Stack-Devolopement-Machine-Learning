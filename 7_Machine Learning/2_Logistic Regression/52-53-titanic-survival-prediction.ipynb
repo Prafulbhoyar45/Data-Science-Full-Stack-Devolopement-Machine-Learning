{
 "cells": [
  {
   "cell_type": "code",
   "execution_count": 1,
   "id": "12e8b3b9",
   "metadata": {
    "_cell_guid": "b1076dfc-b9ad-4769-8c92-a6c4dae69d19",
    "_uuid": "8f2839f25d086af736a60e9eeb907d3b93b6e0e5",
    "execution": {
     "iopub.execute_input": "2022-05-20T16:03:10.305181Z",
     "iopub.status.busy": "2022-05-20T16:03:10.304808Z",
     "iopub.status.idle": "2022-05-20T16:03:10.319499Z",
     "shell.execute_reply": "2022-05-20T16:03:10.318751Z"
    },
    "papermill": {
     "duration": 0.038967,
     "end_time": "2022-05-20T16:03:10.321988",
     "exception": false,
     "start_time": "2022-05-20T16:03:10.283021",
     "status": "completed"
    },
    "tags": []
   },
   "outputs": [
    {
     "name": "stdout",
     "output_type": "stream",
     "text": [
      "/kaggle/input/titanic/train.csv\n",
      "/kaggle/input/titanic/test.csv\n",
      "/kaggle/input/titanic/gender_submission.csv\n"
     ]
    }
   ],
   "source": [
    "# This Python 3 environment comes with many helpful analytics libraries installed\n",
    "# It is defined by the kaggle/python Docker image: https://github.com/kaggle/docker-python\n",
    "# For example, here's several helpful packages to load\n",
    "\n",
    "import numpy as np # linear algebra\n",
    "import pandas as pd # data processing, CSV file I/O (e.g. pd.read_csv)\n",
    "\n",
    "# Input data files are available in the read-only \"../input/\" directory\n",
    "# For example, running this (by clicking run or pressing Shift+Enter) will list all files under the input directory\n",
    "\n",
    "import os\n",
    "for dirname, _, filenames in os.walk('/kaggle/input'):\n",
    "    for filename in filenames:\n",
    "        print(os.path.join(dirname, filename))\n",
    "\n",
    "# You can write up to 20GB to the current directory (/kaggle/working/) that gets preserved as output when you create a version using \"Save & Run All\" \n",
    "# You can also write temporary files to /kaggle/temp/, but they won't be saved outside of the current session"
   ]
  },
  {
   "cell_type": "code",
   "execution_count": 2,
   "id": "02890790",
   "metadata": {
    "execution": {
     "iopub.execute_input": "2022-05-20T16:03:10.364945Z",
     "iopub.status.busy": "2022-05-20T16:03:10.364185Z",
     "iopub.status.idle": "2022-05-20T16:03:10.410149Z",
     "shell.execute_reply": "2022-05-20T16:03:10.409112Z"
    },
    "papermill": {
     "duration": 0.069794,
     "end_time": "2022-05-20T16:03:10.412434",
     "exception": false,
     "start_time": "2022-05-20T16:03:10.342640",
     "status": "completed"
    },
    "tags": []
   },
   "outputs": [
    {
     "data": {
      "text/html": [
       "<div>\n",
       "<style scoped>\n",
       "    .dataframe tbody tr th:only-of-type {\n",
       "        vertical-align: middle;\n",
       "    }\n",
       "\n",
       "    .dataframe tbody tr th {\n",
       "        vertical-align: top;\n",
       "    }\n",
       "\n",
       "    .dataframe thead th {\n",
       "        text-align: right;\n",
       "    }\n",
       "</style>\n",
       "<table border=\"1\" class=\"dataframe\">\n",
       "  <thead>\n",
       "    <tr style=\"text-align: right;\">\n",
       "      <th></th>\n",
       "      <th>PassengerId</th>\n",
       "      <th>Survived</th>\n",
       "      <th>Pclass</th>\n",
       "      <th>Name</th>\n",
       "      <th>Sex</th>\n",
       "      <th>Age</th>\n",
       "      <th>SibSp</th>\n",
       "      <th>Parch</th>\n",
       "      <th>Ticket</th>\n",
       "      <th>Fare</th>\n",
       "      <th>Cabin</th>\n",
       "      <th>Embarked</th>\n",
       "    </tr>\n",
       "  </thead>\n",
       "  <tbody>\n",
       "    <tr>\n",
       "      <th>0</th>\n",
       "      <td>1</td>\n",
       "      <td>0</td>\n",
       "      <td>3</td>\n",
       "      <td>Braund, Mr. Owen Harris</td>\n",
       "      <td>male</td>\n",
       "      <td>22.0</td>\n",
       "      <td>1</td>\n",
       "      <td>0</td>\n",
       "      <td>A/5 21171</td>\n",
       "      <td>7.2500</td>\n",
       "      <td>NaN</td>\n",
       "      <td>S</td>\n",
       "    </tr>\n",
       "    <tr>\n",
       "      <th>1</th>\n",
       "      <td>2</td>\n",
       "      <td>1</td>\n",
       "      <td>1</td>\n",
       "      <td>Cumings, Mrs. John Bradley (Florence Briggs Th...</td>\n",
       "      <td>female</td>\n",
       "      <td>38.0</td>\n",
       "      <td>1</td>\n",
       "      <td>0</td>\n",
       "      <td>PC 17599</td>\n",
       "      <td>71.2833</td>\n",
       "      <td>C85</td>\n",
       "      <td>C</td>\n",
       "    </tr>\n",
       "    <tr>\n",
       "      <th>2</th>\n",
       "      <td>3</td>\n",
       "      <td>1</td>\n",
       "      <td>3</td>\n",
       "      <td>Heikkinen, Miss. Laina</td>\n",
       "      <td>female</td>\n",
       "      <td>26.0</td>\n",
       "      <td>0</td>\n",
       "      <td>0</td>\n",
       "      <td>STON/O2. 3101282</td>\n",
       "      <td>7.9250</td>\n",
       "      <td>NaN</td>\n",
       "      <td>S</td>\n",
       "    </tr>\n",
       "    <tr>\n",
       "      <th>3</th>\n",
       "      <td>4</td>\n",
       "      <td>1</td>\n",
       "      <td>1</td>\n",
       "      <td>Futrelle, Mrs. Jacques Heath (Lily May Peel)</td>\n",
       "      <td>female</td>\n",
       "      <td>35.0</td>\n",
       "      <td>1</td>\n",
       "      <td>0</td>\n",
       "      <td>113803</td>\n",
       "      <td>53.1000</td>\n",
       "      <td>C123</td>\n",
       "      <td>S</td>\n",
       "    </tr>\n",
       "    <tr>\n",
       "      <th>4</th>\n",
       "      <td>5</td>\n",
       "      <td>0</td>\n",
       "      <td>3</td>\n",
       "      <td>Allen, Mr. William Henry</td>\n",
       "      <td>male</td>\n",
       "      <td>35.0</td>\n",
       "      <td>0</td>\n",
       "      <td>0</td>\n",
       "      <td>373450</td>\n",
       "      <td>8.0500</td>\n",
       "      <td>NaN</td>\n",
       "      <td>S</td>\n",
       "    </tr>\n",
       "  </tbody>\n",
       "</table>\n",
       "</div>"
      ],
      "text/plain": [
       "   PassengerId  Survived  Pclass  \\\n",
       "0            1         0       3   \n",
       "1            2         1       1   \n",
       "2            3         1       3   \n",
       "3            4         1       1   \n",
       "4            5         0       3   \n",
       "\n",
       "                                                Name     Sex   Age  SibSp  \\\n",
       "0                            Braund, Mr. Owen Harris    male  22.0      1   \n",
       "1  Cumings, Mrs. John Bradley (Florence Briggs Th...  female  38.0      1   \n",
       "2                             Heikkinen, Miss. Laina  female  26.0      0   \n",
       "3       Futrelle, Mrs. Jacques Heath (Lily May Peel)  female  35.0      1   \n",
       "4                           Allen, Mr. William Henry    male  35.0      0   \n",
       "\n",
       "   Parch            Ticket     Fare Cabin Embarked  \n",
       "0      0         A/5 21171   7.2500   NaN        S  \n",
       "1      0          PC 17599  71.2833   C85        C  \n",
       "2      0  STON/O2. 3101282   7.9250   NaN        S  \n",
       "3      0            113803  53.1000  C123        S  \n",
       "4      0            373450   8.0500   NaN        S  "
      ]
     },
     "execution_count": 2,
     "metadata": {},
     "output_type": "execute_result"
    }
   ],
   "source": [
    "titanic = pd.read_csv(\"/kaggle/input/titanic/train.csv\")\n",
    "titanic.head()"
   ]
  },
  {
   "cell_type": "markdown",
   "id": "7c337df3",
   "metadata": {
    "papermill": {
     "duration": 0.018834,
     "end_time": "2022-05-20T16:03:10.450788",
     "exception": false,
     "start_time": "2022-05-20T16:03:10.431954",
     "status": "completed"
    },
    "tags": []
   },
   "source": [
    "# Data Preprocessing and Analysis"
   ]
  },
  {
   "cell_type": "code",
   "execution_count": 3,
   "id": "986f29fc",
   "metadata": {
    "execution": {
     "iopub.execute_input": "2022-05-20T16:03:10.491909Z",
     "iopub.status.busy": "2022-05-20T16:03:10.490723Z",
     "iopub.status.idle": "2022-05-20T16:03:11.784612Z",
     "shell.execute_reply": "2022-05-20T16:03:11.783587Z"
    },
    "papermill": {
     "duration": 1.317563,
     "end_time": "2022-05-20T16:03:11.787635",
     "exception": false,
     "start_time": "2022-05-20T16:03:10.470072",
     "status": "completed"
    },
    "tags": []
   },
   "outputs": [],
   "source": [
    "import matplotlib.pyplot as plt\n",
    "import seaborn as sns"
   ]
  },
  {
   "cell_type": "code",
   "execution_count": 4,
   "id": "7875ea7c",
   "metadata": {
    "execution": {
     "iopub.execute_input": "2022-05-20T16:03:11.829892Z",
     "iopub.status.busy": "2022-05-20T16:03:11.829589Z",
     "iopub.status.idle": "2022-05-20T16:03:12.184415Z",
     "shell.execute_reply": "2022-05-20T16:03:12.183593Z"
    },
    "papermill": {
     "duration": 0.378116,
     "end_time": "2022-05-20T16:03:12.186673",
     "exception": false,
     "start_time": "2022-05-20T16:03:11.808557",
     "status": "completed"
    },
    "tags": []
   },
   "outputs": [
    {
     "data": {
      "text/plain": [
       "<AxesSubplot:>"
      ]
     },
     "execution_count": 4,
     "metadata": {},
     "output_type": "execute_result"
    },
    {
     "data": {
      "image/png": "[encoded data removed]",
      "text/plain": [
       "<Figure size 720x720 with 2 Axes>"
      ]
     },
     "metadata": {
      "needs_background": "light"
     },
     "output_type": "display_data"
    }
   ],
   "source": [
    "plt.figure(figsize=(10,10))\n",
    "\n",
    "sns.heatmap(titanic.isnull(), yticklabels=False, cmap='viridis')"
   ]
  },
  {
   "cell_type": "code",
   "execution_count": 5,
   "id": "5107945e",
   "metadata": {
    "execution": {
     "iopub.execute_input": "2022-05-20T16:03:12.231454Z",
     "iopub.status.busy": "2022-05-20T16:03:12.230766Z",
     "iopub.status.idle": "2022-05-20T16:03:12.351815Z",
     "shell.execute_reply": "2022-05-20T16:03:12.350822Z"
    },
    "papermill": {
     "duration": 0.146745,
     "end_time": "2022-05-20T16:03:12.354388",
     "exception": false,
     "start_time": "2022-05-20T16:03:12.207643",
     "status": "completed"
    },
    "tags": []
   },
   "outputs": [
    {
     "data": {
      "text/plain": [
       "<AxesSubplot:xlabel='Survived', ylabel='count'>"
      ]
     },
     "execution_count": 5,
     "metadata": {},
     "output_type": "execute_result"
    },
    {
     "data": {
      "image/png": "[encoded data removed]",
      "text/plain": [
       "<Figure size 432x288 with 1 Axes>"
      ]
     },
     "metadata": {
      "needs_background": "light"
     },
     "output_type": "display_data"
    }
   ],
   "source": [
    "sns.countplot(x='Survived', data=titanic, palette=None)"
   ]
  },
  {
   "cell_type": "code",
   "execution_count": 6,
   "id": "069c447b",
   "metadata": {
    "execution": {
     "iopub.execute_input": "2022-05-20T16:03:12.403773Z",
     "iopub.status.busy": "2022-05-20T16:03:12.403440Z",
     "iopub.status.idle": "2022-05-20T16:03:12.538980Z",
     "shell.execute_reply": "2022-05-20T16:03:12.537925Z"
    },
    "papermill": {
     "duration": 0.163296,
     "end_time": "2022-05-20T16:03:12.541263",
     "exception": false,
     "start_time": "2022-05-20T16:03:12.377967",
     "status": "completed"
    },
    "tags": []
   },
   "outputs": [
    {
     "data": {
      "text/plain": [
       "<AxesSubplot:xlabel='Survived', ylabel='count'>"
      ]
     },
     "execution_count": 6,
     "metadata": {},
     "output_type": "execute_result"
    },
    {
     "data": {
      "image/png": "[encoded data removed]",
      "text/plain": [
       "<Figure size 432x288 with 1 Axes>"
      ]
     },
     "metadata": {
      "needs_background": "light"
     },
     "output_type": "display_data"
    }
   ],
   "source": [
    "sns.countplot(x='Survived', hue=\"Sex\", data=titanic, palette=None)"
   ]
  },
  {
   "cell_type": "code",
   "execution_count": 7,
   "id": "2a663738",
   "metadata": {
    "execution": {
     "iopub.execute_input": "2022-05-20T16:03:12.598384Z",
     "iopub.status.busy": "2022-05-20T16:03:12.597855Z",
     "iopub.status.idle": "2022-05-20T16:03:12.794462Z",
     "shell.execute_reply": "2022-05-20T16:03:12.793561Z"
    },
    "papermill": {
     "duration": 0.223679,
     "end_time": "2022-05-20T16:03:12.796732",
     "exception": false,
     "start_time": "2022-05-20T16:03:12.573053",
     "status": "completed"
    },
    "tags": []
   },
   "outputs": [
    {
     "data": {
      "text/plain": [
       "<AxesSubplot:xlabel='Survived', ylabel='count'>"
      ]
     },
     "execution_count": 7,
     "metadata": {},
     "output_type": "execute_result"
    },
    {
     "data": {
      "image/png": "[encoded data removed]",
      "text/plain": [
       "<Figure size 432x288 with 1 Axes>"
      ]
     },
     "metadata": {
      "needs_background": "light"
     },
     "output_type": "display_data"
    }
   ],
   "source": [
    "sns.countplot(x='Survived', hue=\"Pclass\",data=titanic, palette=None)"
   ]
  },
  {
   "cell_type": "code",
   "execution_count": 8,
   "id": "7ad6b2c4",
   "metadata": {
    "execution": {
     "iopub.execute_input": "2022-05-20T16:03:12.849406Z",
     "iopub.status.busy": "2022-05-20T16:03:12.849100Z",
     "iopub.status.idle": "2022-05-20T16:03:12.882120Z",
     "shell.execute_reply": "2022-05-20T16:03:12.881449Z"
    },
    "papermill": {
     "duration": 0.062055,
     "end_time": "2022-05-20T16:03:12.884515",
     "exception": false,
     "start_time": "2022-05-20T16:03:12.822460",
     "status": "completed"
    },
    "tags": []
   },
   "outputs": [
    {
     "data": {
      "text/html": [
       "<div>\n",
       "<style scoped>\n",
       "    .dataframe tbody tr th:only-of-type {\n",
       "        vertical-align: middle;\n",
       "    }\n",
       "\n",
       "    .dataframe tbody tr th {\n",
       "        vertical-align: top;\n",
       "    }\n",
       "\n",
       "    .dataframe thead th {\n",
       "        text-align: right;\n",
       "    }\n",
       "</style>\n",
       "<table border=\"1\" class=\"dataframe\">\n",
       "  <thead>\n",
       "    <tr style=\"text-align: right;\">\n",
       "      <th></th>\n",
       "      <th>count</th>\n",
       "      <th>mean</th>\n",
       "      <th>std</th>\n",
       "      <th>min</th>\n",
       "      <th>25%</th>\n",
       "      <th>50%</th>\n",
       "      <th>75%</th>\n",
       "      <th>max</th>\n",
       "    </tr>\n",
       "    <tr>\n",
       "      <th>Pclass</th>\n",
       "      <th></th>\n",
       "      <th></th>\n",
       "      <th></th>\n",
       "      <th></th>\n",
       "      <th></th>\n",
       "      <th></th>\n",
       "      <th></th>\n",
       "      <th></th>\n",
       "    </tr>\n",
       "  </thead>\n",
       "  <tbody>\n",
       "    <tr>\n",
       "      <th>1</th>\n",
       "      <td>186.0</td>\n",
       "      <td>38.233441</td>\n",
       "      <td>14.802856</td>\n",
       "      <td>0.92</td>\n",
       "      <td>27.0</td>\n",
       "      <td>37.0</td>\n",
       "      <td>49.0</td>\n",
       "      <td>80.0</td>\n",
       "    </tr>\n",
       "    <tr>\n",
       "      <th>2</th>\n",
       "      <td>173.0</td>\n",
       "      <td>29.877630</td>\n",
       "      <td>14.001077</td>\n",
       "      <td>0.67</td>\n",
       "      <td>23.0</td>\n",
       "      <td>29.0</td>\n",
       "      <td>36.0</td>\n",
       "      <td>70.0</td>\n",
       "    </tr>\n",
       "    <tr>\n",
       "      <th>3</th>\n",
       "      <td>355.0</td>\n",
       "      <td>25.140620</td>\n",
       "      <td>12.495398</td>\n",
       "      <td>0.42</td>\n",
       "      <td>18.0</td>\n",
       "      <td>24.0</td>\n",
       "      <td>32.0</td>\n",
       "      <td>74.0</td>\n",
       "    </tr>\n",
       "  </tbody>\n",
       "</table>\n",
       "</div>"
      ],
      "text/plain": [
       "        count       mean        std   min   25%   50%   75%   max\n",
       "Pclass                                                           \n",
       "1       186.0  38.233441  14.802856  0.92  27.0  37.0  49.0  80.0\n",
       "2       173.0  29.877630  14.001077  0.67  23.0  29.0  36.0  70.0\n",
       "3       355.0  25.140620  12.495398  0.42  18.0  24.0  32.0  74.0"
      ]
     },
     "execution_count": 8,
     "metadata": {},
     "output_type": "execute_result"
    }
   ],
   "source": [
    "titanic.groupby('Pclass')['Age'].describe()"
   ]
  },
  {
   "cell_type": "code",
   "execution_count": 9,
   "id": "7ed0a4ff",
   "metadata": {
    "execution": {
     "iopub.execute_input": "2022-05-20T16:03:12.936605Z",
     "iopub.status.busy": "2022-05-20T16:03:12.935984Z",
     "iopub.status.idle": "2022-05-20T16:03:12.940896Z",
     "shell.execute_reply": "2022-05-20T16:03:12.940357Z"
    },
    "papermill": {
     "duration": 0.033549,
     "end_time": "2022-05-20T16:03:12.943087",
     "exception": false,
     "start_time": "2022-05-20T16:03:12.909538",
     "status": "completed"
    },
    "tags": []
   },
   "outputs": [],
   "source": [
    "def calculate_age(cols):\n",
    "    ages = [38, 30, 25]\n",
    "    \n",
    "    age, pclass = cols[0], cols[1]\n",
    "    \n",
    "    if pd.isnull(age):\n",
    "        return ages[int(pclass - 1)]\n",
    "    else:\n",
    "        return age"
   ]
  },
  {
   "cell_type": "code",
   "execution_count": 10,
   "id": "21ea4877",
   "metadata": {
    "execution": {
     "iopub.execute_input": "2022-05-20T16:03:12.995807Z",
     "iopub.status.busy": "2022-05-20T16:03:12.994896Z",
     "iopub.status.idle": "2022-05-20T16:03:13.016570Z",
     "shell.execute_reply": "2022-05-20T16:03:13.015667Z"
    },
    "papermill": {
     "duration": 0.051206,
     "end_time": "2022-05-20T16:03:13.019664",
     "exception": false,
     "start_time": "2022-05-20T16:03:12.968458",
     "status": "completed"
    },
    "tags": []
   },
   "outputs": [],
   "source": [
    "titanic['Age'] = titanic[['Age', 'Pclass']].apply(calculate_age, axis=1)"
   ]
  },
  {
   "cell_type": "code",
   "execution_count": 11,
   "id": "13788d99",
   "metadata": {
    "execution": {
     "iopub.execute_input": "2022-05-20T16:03:13.075082Z",
     "iopub.status.busy": "2022-05-20T16:03:13.074801Z",
     "iopub.status.idle": "2022-05-20T16:03:13.079834Z",
     "shell.execute_reply": "2022-05-20T16:03:13.079011Z"
    },
    "papermill": {
     "duration": 0.03503,
     "end_time": "2022-05-20T16:03:13.081917",
     "exception": false,
     "start_time": "2022-05-20T16:03:13.046887",
     "status": "completed"
    },
    "tags": []
   },
   "outputs": [],
   "source": [
    "titanic.drop('Cabin', axis=1, inplace=True)"
   ]
  },
  {
   "cell_type": "code",
   "execution_count": 12,
   "id": "4b5e12e8",
   "metadata": {
    "execution": {
     "iopub.execute_input": "2022-05-20T16:03:13.134905Z",
     "iopub.status.busy": "2022-05-20T16:03:13.134612Z",
     "iopub.status.idle": "2022-05-20T16:03:13.142649Z",
     "shell.execute_reply": "2022-05-20T16:03:13.141746Z"
    },
    "papermill": {
     "duration": 0.037007,
     "end_time": "2022-05-20T16:03:13.144933",
     "exception": false,
     "start_time": "2022-05-20T16:03:13.107926",
     "status": "completed"
    },
    "tags": []
   },
   "outputs": [],
   "source": [
    "titanic.dropna(inplace=True)"
   ]
  },
  {
   "cell_type": "code",
   "execution_count": 13,
   "id": "9a386ddd",
   "metadata": {
    "execution": {
     "iopub.execute_input": "2022-05-20T16:03:13.198480Z",
     "iopub.status.busy": "2022-05-20T16:03:13.198178Z",
     "iopub.status.idle": "2022-05-20T16:03:13.515683Z",
     "shell.execute_reply": "2022-05-20T16:03:13.514992Z"
    },
    "papermill": {
     "duration": 0.346304,
     "end_time": "2022-05-20T16:03:13.517952",
     "exception": false,
     "start_time": "2022-05-20T16:03:13.171648",
     "status": "completed"
    },
    "tags": []
   },
   "outputs": [
    {
     "data": {
      "text/plain": [
       "<AxesSubplot:>"
      ]
     },
     "execution_count": 13,
     "metadata": {},
     "output_type": "execute_result"
    },
    {
     "data": {
      "image/png": "[encoded data removed]",
      "text/plain": [
       "<Figure size 864x720 with 2 Axes>"
      ]
     },
     "metadata": {
      "needs_background": "light"
     },
     "output_type": "display_data"
    }
   ],
   "source": [
    "plt.figure(figsize=(12,10))\n",
    "\n",
    "sns.heatmap(titanic.isnull(), yticklabels=False, cmap='viridis')"
   ]
  },
  {
   "cell_type": "code",
   "execution_count": 14,
   "id": "804dc5a7",
   "metadata": {
    "execution": {
     "iopub.execute_input": "2022-05-20T16:03:13.574196Z",
     "iopub.status.busy": "2022-05-20T16:03:13.573414Z",
     "iopub.status.idle": "2022-05-20T16:03:13.592149Z",
     "shell.execute_reply": "2022-05-20T16:03:13.591560Z"
    },
    "papermill": {
     "duration": 0.050134,
     "end_time": "2022-05-20T16:03:13.594697",
     "exception": false,
     "start_time": "2022-05-20T16:03:13.544563",
     "status": "completed"
    },
    "tags": []
   },
   "outputs": [
    {
     "name": "stdout",
     "output_type": "stream",
     "text": [
      "<class 'pandas.core.frame.DataFrame'>\n",
      "Int64Index: 889 entries, 0 to 890\n",
      "Data columns (total 11 columns):\n",
      " #   Column       Non-Null Count  Dtype  \n",
      "---  ------       --------------  -----  \n",
      " 0   PassengerId  889 non-null    int64  \n",
      " 1   Survived     889 non-null    int64  \n",
      " 2   Pclass       889 non-null    int64  \n",
      " 3   Name         889 non-null    object \n",
      " 4   Sex          889 non-null    object \n",
      " 5   Age          889 non-null    float64\n",
      " 6   SibSp        889 non-null    int64  \n",
      " 7   Parch        889 non-null    int64  \n",
      " 8   Ticket       889 non-null    object \n",
      " 9   Fare         889 non-null    float64\n",
      " 10  Embarked     889 non-null    object \n",
      "dtypes: float64(2), int64(5), object(4)\n",
      "memory usage: 83.3+ KB\n"
     ]
    }
   ],
   "source": [
    "titanic.info()"
   ]
  },
  {
   "cell_type": "markdown",
   "id": "675abf67",
   "metadata": {
    "papermill": {
     "duration": 0.026417,
     "end_time": "2022-05-20T16:03:13.647814",
     "exception": false,
     "start_time": "2022-05-20T16:03:13.621397",
     "status": "completed"
    },
    "tags": []
   },
   "source": [
    "# Feature Engineering"
   ]
  },
  {
   "cell_type": "code",
   "execution_count": 15,
   "id": "582699be",
   "metadata": {
    "execution": {
     "iopub.execute_input": "2022-05-20T16:03:13.703835Z",
     "iopub.status.busy": "2022-05-20T16:03:13.703219Z",
     "iopub.status.idle": "2022-05-20T16:03:13.713175Z",
     "shell.execute_reply": "2022-05-20T16:03:13.712543Z"
    },
    "papermill": {
     "duration": 0.040269,
     "end_time": "2022-05-20T16:03:13.715192",
     "exception": false,
     "start_time": "2022-05-20T16:03:13.674923",
     "status": "completed"
    },
    "tags": []
   },
   "outputs": [
    {
     "data": {
      "text/html": [
       "<div>\n",
       "<style scoped>\n",
       "    .dataframe tbody tr th:only-of-type {\n",
       "        vertical-align: middle;\n",
       "    }\n",
       "\n",
       "    .dataframe tbody tr th {\n",
       "        vertical-align: top;\n",
       "    }\n",
       "\n",
       "    .dataframe thead th {\n",
       "        text-align: right;\n",
       "    }\n",
       "</style>\n",
       "<table border=\"1\" class=\"dataframe\">\n",
       "  <thead>\n",
       "    <tr style=\"text-align: right;\">\n",
       "      <th></th>\n",
       "      <th>male</th>\n",
       "    </tr>\n",
       "  </thead>\n",
       "  <tbody>\n",
       "    <tr>\n",
       "      <th>0</th>\n",
       "      <td>1</td>\n",
       "    </tr>\n",
       "    <tr>\n",
       "      <th>1</th>\n",
       "      <td>0</td>\n",
       "    </tr>\n",
       "    <tr>\n",
       "      <th>2</th>\n",
       "      <td>0</td>\n",
       "    </tr>\n",
       "    <tr>\n",
       "      <th>3</th>\n",
       "      <td>0</td>\n",
       "    </tr>\n",
       "    <tr>\n",
       "      <th>4</th>\n",
       "      <td>1</td>\n",
       "    </tr>\n",
       "  </tbody>\n",
       "</table>\n",
       "</div>"
      ],
      "text/plain": [
       "   male\n",
       "0     1\n",
       "1     0\n",
       "2     0\n",
       "3     0\n",
       "4     1"
      ]
     },
     "execution_count": 15,
     "metadata": {},
     "output_type": "execute_result"
    }
   ],
   "source": [
    "gender = pd.get_dummies(titanic['Sex'], drop_first=True)\n",
    "gender.head()"
   ]
  },
  {
   "cell_type": "code",
   "execution_count": null,
   "id": "eff1e21c",
   "metadata": {
    "papermill": {
     "duration": 0.027694,
     "end_time": "2022-05-20T16:03:13.770359",
     "exception": false,
     "start_time": "2022-05-20T16:03:13.742665",
     "status": "completed"
    },
    "tags": []
   },
   "outputs": [],
   "source": []
  }
 ],
 "metadata": {
  "kernelspec": {
   "display_name": "Python 3",
   "language": "python",
   "name": "python3"
  },
  "language_info": {
   "codemirror_mode": {
    "name": "ipython",
    "version": 3
   },
   "file_extension": ".py",
   "mimetype": "text/x-python",
   "name": "python",
   "nbconvert_exporter": "python",
   "pygments_lexer": "ipython3",
   "version": "3.7.12"
  },
  "papermill": {
   "default_parameters": {},
   "duration": 15.521246,
   "end_time": "2022-05-20T16:03:14.720405",
   "environment_variables": {},
   "exception": null,
   "input_path": "__notebook__.ipynb",
   "output_path": "__notebook__.ipynb",
   "parameters": {},
   "start_time": "2022-05-20T16:02:59.199159",
   "version": "2.3.4"
  }
 },
 "nbformat": 4,
 "nbformat_minor": 5
}
